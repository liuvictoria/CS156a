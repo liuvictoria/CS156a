{
 "cells": [
  {
   "cell_type": "markdown",
   "metadata": {},
   "source": [
    "\\begin{align}\n",
    "\\mathrm{accuracy} &= \\frac{TP + TN}{TP + TN + FP + FN} \\\\[1em]\n",
    "\\mathrm{sensitivity} &= \\frac{TP}{TP + FN} \\\\[1em]\n",
    "\\mathrm{specificity} &= \\frac{TN}{TN + FP} \\\\[1em]\n",
    "\\end{align}\n",
    "\n",
    "\\begin{align}\n",
    "\\textrm{TP = cMCI, and correctly diagnosed as cMCI} \\\\[1em]\n",
    "\\textrm{FN = cMCI, and incorrectly diagnosed as sMCI} \\\\[1em]\n",
    "\\textrm{FP = sMCI, and incorrectly diagnosed as cMCI} \\\\[1em]\n",
    "\\textrm{TN = sMCI, and correctly diagnosed as sMCI} \\\\[1em]\n",
    "\\end{align}"
   ]
  },
  {
   "cell_type": "markdown",
   "metadata": {},
   "source": [
    "\\begin{align}\n",
    "MCC = \\frac{TP \\cdot TN − FP \\cdot FN}{\\sqrt{ (TP + FP)\\cdot(TP + FN)\\cdot(TN + FP)\\cdot(TN + FN)}}\n",
    "\\end{align}"
   ]
  },
  {
   "cell_type": "code",
   "execution_count": null,
   "metadata": {},
   "outputs": [],
   "source": []
  }
 ],
 "metadata": {
  "kernelspec": {
   "display_name": "Python 3",
   "language": "python",
   "name": "python3"
  },
  "language_info": {
   "codemirror_mode": {
    "name": "ipython",
    "version": 3
   },
   "file_extension": ".py",
   "mimetype": "text/x-python",
   "name": "python",
   "nbconvert_exporter": "python",
   "pygments_lexer": "ipython3",
   "version": "3.8.5"
  }
 },
 "nbformat": 4,
 "nbformat_minor": 4
}
