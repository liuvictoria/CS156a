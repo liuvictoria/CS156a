{
 "cells": [
  {
   "cell_type": "code",
   "execution_count": 1,
   "metadata": {},
   "outputs": [],
   "source": [
    "import numpy as np"
   ]
  },
  {
   "cell_type": "code",
   "execution_count": 30,
   "metadata": {},
   "outputs": [
    {
     "name": "stdout",
     "output_type": "stream",
     "text": [
      "M = 1 sample size:  840.0\n",
      "M = 10 sample size:  1301.0\n",
      "M = 100 sample size:  1761.0\n"
     ]
    }
   ],
   "source": [
    "def sample_size_from_M(M, epsilon = .05, delta = .03):\n",
    "    \"\"\"\n",
    "    Rearranges Hoeffding to find the least number of samples required,\n",
    "    given the other parameters\n",
    "    \"\"\"\n",
    "    const = -1 / (2 * epsilon ** 2)\n",
    "    N = const * np.log(delta / (2 * M))\n",
    "    #ceiling divide, recall // operator takes smallest integer\n",
    "    N = -(-N // 1)\n",
    "    return N\n",
    "\n",
    "print (\"M = 1 sample size: \", sample_size_from_M(1))\n",
    "print (\"M = 10 sample size: \", sample_size_from_M(10))\n",
    "print (\"M = 100 sample size: \", sample_size_from_M(100))"
   ]
  }
 ],
 "metadata": {
  "kernelspec": {
   "display_name": "Python 3",
   "language": "python",
   "name": "python3"
  },
  "language_info": {
   "codemirror_mode": {
    "name": "ipython",
    "version": 3
   },
   "file_extension": ".py",
   "mimetype": "text/x-python",
   "name": "python",
   "nbconvert_exporter": "python",
   "pygments_lexer": "ipython3",
   "version": "3.8.5"
  }
 },
 "nbformat": 4,
 "nbformat_minor": 4
}
