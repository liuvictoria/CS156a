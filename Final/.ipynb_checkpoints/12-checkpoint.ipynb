{
 "cells": [
  {
   "cell_type": "code",
   "execution_count": 5,
   "metadata": {},
   "outputs": [
    {
     "name": "stdout",
     "output_type": "stream",
     "text": [
      "[1 2 3 4 5]\n"
     ]
    }
   ],
   "source": [
    "import numpy as np\n",
    "from sklearn.svm import SVC\n",
    "\n",
    "X_train = np.array([\n",
    "    [1,0], [0,1], [0,-1], [-1,0], [0,2], [0,-2], [-2,0],\n",
    "    ])\n",
    "Y_train = np.array([ -1, -1, -1, 1, 1, 1, 1,])\n",
    "\n",
    "support_vector_machine = SVC(kernel = 'poly', degree = 2, C = np.inf, coef0 = 1)\n",
    "support_vector_machine.fit(X_train, Y_train)\n",
    "print(support_vector_machine.support_)"
   ]
  }
 ],
 "metadata": {
  "kernelspec": {
   "display_name": "Python 3",
   "language": "python",
   "name": "python3"
  },
  "language_info": {
   "codemirror_mode": {
    "name": "ipython",
    "version": 3
   },
   "file_extension": ".py",
   "mimetype": "text/x-python",
   "name": "python",
   "nbconvert_exporter": "python",
   "pygments_lexer": "ipython3",
   "version": "3.8.5"
  }
 },
 "nbformat": 4,
 "nbformat_minor": 4
}
